{
 "cells": [
  {
   "cell_type": "markdown",
   "id": "fa692f6b-0c8d-4b0c-98a0-d0d9d248c394",
   "metadata": {},
   "source": [
    "# Titanic Survival Prediction Project"
   ]
  },
  {
   "cell_type": "markdown",
   "id": "4933a176-105f-41e2-a171-5a754b71bffb",
   "metadata": {
    "jp-MarkdownHeadingCollapsed": true
   },
   "source": [
    "## 1.Introduction\n",
    "\n",
    "**Problem:** Predict whether a passenger survived the Titanic shipwreck.\n",
    "\n",
    "**Dataset:** Titanic dataset from Kaggle (`train.csv`).\n",
    "\n",
    "**Goal:** Build a machine learning model to predict survival and deploy it via a Flask API for easy access.\n"
   ]
  },
  {
   "cell_type": "markdown",
   "id": "20c5c68d-f05c-475a-a85a-e45c0f66a9f2",
   "metadata": {
    "jp-MarkdownHeadingCollapsed": true
   },
   "source": [
    "## 2.Data Loading"
   ]
  },
  {
   "cell_type": "code",
   "execution_count": 98,
   "id": "ff84e99a-dd9d-401a-9d9c-bc92eb9e8e7f",
   "metadata": {},
   "outputs": [],
   "source": [
    "import pandas as pd\n",
    "import numpy as np\n",
    "import matplotlib.pyplot as plt\n",
    "import seaborn as sns"
   ]
  },
  {
   "cell_type": "code",
   "execution_count": 99,
   "id": "8028cf83-4228-4882-a6ce-95c0363e93ac",
   "metadata": {},
   "outputs": [],
   "source": [
    "df = pd.read_csv(r'../data/raw/train.csv')"
   ]
  },
  {
   "cell_type": "code",
   "execution_count": 100,
   "id": "755d4202-e6f1-411a-ac50-a277d6c47a20",
   "metadata": {},
   "outputs": [
    {
     "data": {
      "text/html": [
       "<div>\n",
       "<style scoped>\n",
       "    .dataframe tbody tr th:only-of-type {\n",
       "        vertical-align: middle;\n",
       "    }\n",
       "\n",
       "    .dataframe tbody tr th {\n",
       "        vertical-align: top;\n",
       "    }\n",
       "\n",
       "    .dataframe thead th {\n",
       "        text-align: right;\n",
       "    }\n",
       "</style>\n",
       "<table border=\"1\" class=\"dataframe\">\n",
       "  <thead>\n",
       "    <tr style=\"text-align: right;\">\n",
       "      <th></th>\n",
       "      <th>PassengerId</th>\n",
       "      <th>Survived</th>\n",
       "      <th>Pclass</th>\n",
       "      <th>Name</th>\n",
       "      <th>Sex</th>\n",
       "      <th>Age</th>\n",
       "      <th>SibSp</th>\n",
       "      <th>Parch</th>\n",
       "      <th>Ticket</th>\n",
       "      <th>Fare</th>\n",
       "      <th>Cabin</th>\n",
       "      <th>Embarked</th>\n",
       "    </tr>\n",
       "  </thead>\n",
       "  <tbody>\n",
       "    <tr>\n",
       "      <th>0</th>\n",
       "      <td>1</td>\n",
       "      <td>0</td>\n",
       "      <td>3</td>\n",
       "      <td>Braund, Mr. Owen Harris</td>\n",
       "      <td>male</td>\n",
       "      <td>22.0</td>\n",
       "      <td>1</td>\n",
       "      <td>0</td>\n",
       "      <td>A/5 21171</td>\n",
       "      <td>7.2500</td>\n",
       "      <td>NaN</td>\n",
       "      <td>S</td>\n",
       "    </tr>\n",
       "    <tr>\n",
       "      <th>1</th>\n",
       "      <td>2</td>\n",
       "      <td>1</td>\n",
       "      <td>1</td>\n",
       "      <td>Cumings, Mrs. John Bradley (Florence Briggs Th...</td>\n",
       "      <td>female</td>\n",
       "      <td>38.0</td>\n",
       "      <td>1</td>\n",
       "      <td>0</td>\n",
       "      <td>PC 17599</td>\n",
       "      <td>71.2833</td>\n",
       "      <td>C85</td>\n",
       "      <td>C</td>\n",
       "    </tr>\n",
       "    <tr>\n",
       "      <th>2</th>\n",
       "      <td>3</td>\n",
       "      <td>1</td>\n",
       "      <td>3</td>\n",
       "      <td>Heikkinen, Miss. Laina</td>\n",
       "      <td>female</td>\n",
       "      <td>26.0</td>\n",
       "      <td>0</td>\n",
       "      <td>0</td>\n",
       "      <td>STON/O2. 3101282</td>\n",
       "      <td>7.9250</td>\n",
       "      <td>NaN</td>\n",
       "      <td>S</td>\n",
       "    </tr>\n",
       "    <tr>\n",
       "      <th>3</th>\n",
       "      <td>4</td>\n",
       "      <td>1</td>\n",
       "      <td>1</td>\n",
       "      <td>Futrelle, Mrs. Jacques Heath (Lily May Peel)</td>\n",
       "      <td>female</td>\n",
       "      <td>35.0</td>\n",
       "      <td>1</td>\n",
       "      <td>0</td>\n",
       "      <td>113803</td>\n",
       "      <td>53.1000</td>\n",
       "      <td>C123</td>\n",
       "      <td>S</td>\n",
       "    </tr>\n",
       "    <tr>\n",
       "      <th>4</th>\n",
       "      <td>5</td>\n",
       "      <td>0</td>\n",
       "      <td>3</td>\n",
       "      <td>Allen, Mr. William Henry</td>\n",
       "      <td>male</td>\n",
       "      <td>35.0</td>\n",
       "      <td>0</td>\n",
       "      <td>0</td>\n",
       "      <td>373450</td>\n",
       "      <td>8.0500</td>\n",
       "      <td>NaN</td>\n",
       "      <td>S</td>\n",
       "    </tr>\n",
       "  </tbody>\n",
       "</table>\n",
       "</div>"
      ],
      "text/plain": [
       "   PassengerId  Survived  Pclass  \\\n",
       "0            1         0       3   \n",
       "1            2         1       1   \n",
       "2            3         1       3   \n",
       "3            4         1       1   \n",
       "4            5         0       3   \n",
       "\n",
       "                                                Name     Sex   Age  SibSp  \\\n",
       "0                            Braund, Mr. Owen Harris    male  22.0      1   \n",
       "1  Cumings, Mrs. John Bradley (Florence Briggs Th...  female  38.0      1   \n",
       "2                             Heikkinen, Miss. Laina  female  26.0      0   \n",
       "3       Futrelle, Mrs. Jacques Heath (Lily May Peel)  female  35.0      1   \n",
       "4                           Allen, Mr. William Henry    male  35.0      0   \n",
       "\n",
       "   Parch            Ticket     Fare Cabin Embarked  \n",
       "0      0         A/5 21171   7.2500   NaN        S  \n",
       "1      0          PC 17599  71.2833   C85        C  \n",
       "2      0  STON/O2. 3101282   7.9250   NaN        S  \n",
       "3      0            113803  53.1000  C123        S  \n",
       "4      0            373450   8.0500   NaN        S  "
      ]
     },
     "execution_count": 100,
     "metadata": {},
     "output_type": "execute_result"
    }
   ],
   "source": [
    "df.head()"
   ]
  },
  {
   "cell_type": "code",
   "execution_count": 101,
   "id": "71979806-d6b8-4cac-9f41-6c38fe61f313",
   "metadata": {},
   "outputs": [
    {
     "data": {
      "text/plain": [
       "(891, 12)"
      ]
     },
     "execution_count": 101,
     "metadata": {},
     "output_type": "execute_result"
    }
   ],
   "source": [
    "df.shape"
   ]
  },
  {
   "cell_type": "markdown",
   "id": "b3a33bb7-23d2-4913-8c8b-142260974fe5",
   "metadata": {
    "jp-MarkdownHeadingCollapsed": true
   },
   "source": [
    "## 3.EDA- Exploratory Data Analysis"
   ]
  },
  {
   "cell_type": "code",
   "execution_count": 102,
   "id": "842e86ab-3732-4bee-bc4f-cb4287981472",
   "metadata": {},
   "outputs": [
    {
     "name": "stdout",
     "output_type": "stream",
     "text": [
      "<class 'pandas.core.frame.DataFrame'>\n",
      "RangeIndex: 891 entries, 0 to 890\n",
      "Data columns (total 12 columns):\n",
      " #   Column       Non-Null Count  Dtype  \n",
      "---  ------       --------------  -----  \n",
      " 0   PassengerId  891 non-null    int64  \n",
      " 1   Survived     891 non-null    int64  \n",
      " 2   Pclass       891 non-null    int64  \n",
      " 3   Name         891 non-null    object \n",
      " 4   Sex          891 non-null    object \n",
      " 5   Age          714 non-null    float64\n",
      " 6   SibSp        891 non-null    int64  \n",
      " 7   Parch        891 non-null    int64  \n",
      " 8   Ticket       891 non-null    object \n",
      " 9   Fare         891 non-null    float64\n",
      " 10  Cabin        204 non-null    object \n",
      " 11  Embarked     889 non-null    object \n",
      "dtypes: float64(2), int64(5), object(5)\n",
      "memory usage: 83.7+ KB\n"
     ]
    }
   ],
   "source": [
    "df.info()"
   ]
  },
  {
   "cell_type": "code",
   "execution_count": 103,
   "id": "c9a1c092-7c72-4708-bc78-5b0ba914e3c5",
   "metadata": {},
   "outputs": [
    {
     "data": {
      "text/html": [
       "<div>\n",
       "<style scoped>\n",
       "    .dataframe tbody tr th:only-of-type {\n",
       "        vertical-align: middle;\n",
       "    }\n",
       "\n",
       "    .dataframe tbody tr th {\n",
       "        vertical-align: top;\n",
       "    }\n",
       "\n",
       "    .dataframe thead th {\n",
       "        text-align: right;\n",
       "    }\n",
       "</style>\n",
       "<table border=\"1\" class=\"dataframe\">\n",
       "  <thead>\n",
       "    <tr style=\"text-align: right;\">\n",
       "      <th></th>\n",
       "      <th>PassengerId</th>\n",
       "      <th>Survived</th>\n",
       "      <th>Pclass</th>\n",
       "      <th>Age</th>\n",
       "      <th>SibSp</th>\n",
       "      <th>Parch</th>\n",
       "      <th>Fare</th>\n",
       "    </tr>\n",
       "  </thead>\n",
       "  <tbody>\n",
       "    <tr>\n",
       "      <th>count</th>\n",
       "      <td>891.000000</td>\n",
       "      <td>891.000000</td>\n",
       "      <td>891.000000</td>\n",
       "      <td>714.000000</td>\n",
       "      <td>891.000000</td>\n",
       "      <td>891.000000</td>\n",
       "      <td>891.000000</td>\n",
       "    </tr>\n",
       "    <tr>\n",
       "      <th>mean</th>\n",
       "      <td>446.000000</td>\n",
       "      <td>0.383838</td>\n",
       "      <td>2.308642</td>\n",
       "      <td>29.699118</td>\n",
       "      <td>0.523008</td>\n",
       "      <td>0.381594</td>\n",
       "      <td>32.204208</td>\n",
       "    </tr>\n",
       "    <tr>\n",
       "      <th>std</th>\n",
       "      <td>257.353842</td>\n",
       "      <td>0.486592</td>\n",
       "      <td>0.836071</td>\n",
       "      <td>14.526497</td>\n",
       "      <td>1.102743</td>\n",
       "      <td>0.806057</td>\n",
       "      <td>49.693429</td>\n",
       "    </tr>\n",
       "    <tr>\n",
       "      <th>min</th>\n",
       "      <td>1.000000</td>\n",
       "      <td>0.000000</td>\n",
       "      <td>1.000000</td>\n",
       "      <td>0.420000</td>\n",
       "      <td>0.000000</td>\n",
       "      <td>0.000000</td>\n",
       "      <td>0.000000</td>\n",
       "    </tr>\n",
       "    <tr>\n",
       "      <th>25%</th>\n",
       "      <td>223.500000</td>\n",
       "      <td>0.000000</td>\n",
       "      <td>2.000000</td>\n",
       "      <td>20.125000</td>\n",
       "      <td>0.000000</td>\n",
       "      <td>0.000000</td>\n",
       "      <td>7.910400</td>\n",
       "    </tr>\n",
       "    <tr>\n",
       "      <th>50%</th>\n",
       "      <td>446.000000</td>\n",
       "      <td>0.000000</td>\n",
       "      <td>3.000000</td>\n",
       "      <td>28.000000</td>\n",
       "      <td>0.000000</td>\n",
       "      <td>0.000000</td>\n",
       "      <td>14.454200</td>\n",
       "    </tr>\n",
       "    <tr>\n",
       "      <th>75%</th>\n",
       "      <td>668.500000</td>\n",
       "      <td>1.000000</td>\n",
       "      <td>3.000000</td>\n",
       "      <td>38.000000</td>\n",
       "      <td>1.000000</td>\n",
       "      <td>0.000000</td>\n",
       "      <td>31.000000</td>\n",
       "    </tr>\n",
       "    <tr>\n",
       "      <th>max</th>\n",
       "      <td>891.000000</td>\n",
       "      <td>1.000000</td>\n",
       "      <td>3.000000</td>\n",
       "      <td>80.000000</td>\n",
       "      <td>8.000000</td>\n",
       "      <td>6.000000</td>\n",
       "      <td>512.329200</td>\n",
       "    </tr>\n",
       "  </tbody>\n",
       "</table>\n",
       "</div>"
      ],
      "text/plain": [
       "       PassengerId    Survived      Pclass         Age       SibSp  \\\n",
       "count   891.000000  891.000000  891.000000  714.000000  891.000000   \n",
       "mean    446.000000    0.383838    2.308642   29.699118    0.523008   \n",
       "std     257.353842    0.486592    0.836071   14.526497    1.102743   \n",
       "min       1.000000    0.000000    1.000000    0.420000    0.000000   \n",
       "25%     223.500000    0.000000    2.000000   20.125000    0.000000   \n",
       "50%     446.000000    0.000000    3.000000   28.000000    0.000000   \n",
       "75%     668.500000    1.000000    3.000000   38.000000    1.000000   \n",
       "max     891.000000    1.000000    3.000000   80.000000    8.000000   \n",
       "\n",
       "            Parch        Fare  \n",
       "count  891.000000  891.000000  \n",
       "mean     0.381594   32.204208  \n",
       "std      0.806057   49.693429  \n",
       "min      0.000000    0.000000  \n",
       "25%      0.000000    7.910400  \n",
       "50%      0.000000   14.454200  \n",
       "75%      0.000000   31.000000  \n",
       "max      6.000000  512.329200  "
      ]
     },
     "execution_count": 103,
     "metadata": {},
     "output_type": "execute_result"
    }
   ],
   "source": [
    "df.describe()"
   ]
  },
  {
   "cell_type": "code",
   "execution_count": 104,
   "id": "d79beb79-6b0d-41ad-b718-8788a2a2c5ae",
   "metadata": {},
   "outputs": [
    {
     "data": {
      "text/plain": [
       "PassengerId      0\n",
       "Survived         0\n",
       "Pclass           0\n",
       "Name             0\n",
       "Sex              0\n",
       "Age            177\n",
       "SibSp            0\n",
       "Parch            0\n",
       "Ticket           0\n",
       "Fare             0\n",
       "Cabin          687\n",
       "Embarked         2\n",
       "dtype: int64"
      ]
     },
     "execution_count": 104,
     "metadata": {},
     "output_type": "execute_result"
    }
   ],
   "source": [
    "df.isnull().sum()"
   ]
  },
  {
   "cell_type": "markdown",
   "id": "dc256fc6-38b7-48a9-867a-d633b1fe5f95",
   "metadata": {},
   "source": [
    "### Understanding the Data\n",
    "\n",
    "- **Target Column**: `Survived` (0 = died, 1 = survived)\n",
    "- **Useful in Prediction**: `Pclass`, `Sex`, `Age`, `Fare`, `SibSp`, `Parch`\n",
    "- **Missing Values**: Age (177), Cabin (687), Embarked (2)\n",
    "- **Notes**:\n",
    "  - `Cabin` has too many missing values, may drop it.\n",
    "  - `Fare` has huge range, maybe scale it later.\n",
    "  - Name may be useful to extract title.\n"
   ]
  },
  {
   "cell_type": "markdown",
   "id": "f6f7d7ab-6776-4b35-8622-0bc4aba5dfc5",
   "metadata": {},
   "source": [
    "### Data Visualizations\n"
   ]
  },
  {
   "cell_type": "markdown",
   "id": "2f817096-0e03-4fd3-8aba-ea121e365d84",
   "metadata": {
    "jp-MarkdownHeadingCollapsed": true
   },
   "source": [
    "#### Age"
   ]
  },
  {
   "cell_type": "markdown",
   "id": "90be9c21-dc4f-4943-9399-9196fb66cd6b",
   "metadata": {},
   "source": [
    "##### Plot 1"
   ]
  },
  {
   "cell_type": "code",
   "execution_count": 105,
   "id": "87dd0e9c-ce5d-4665-b0b2-68a1148576e5",
   "metadata": {},
   "outputs": [
    {
     "data": {
      "image/png": "[encoded data removed]",
      "text/plain": [
       "<Figure size 640x480 with 1 Axes>"
      ]
     },
     "metadata": {},
     "output_type": "display_data"
    }
   ],
   "source": [
    "#histogram of Age\n",
    "sns.histplot(data=df, x='Age', bins=30, kde=True)\n",
    "plt.title('Age Distribution')\n",
    "plt.show()\n"
   ]
  },
  {
   "cell_type": "markdown",
   "id": "b29459ea-a927-45cf-aa5d-0a2f99cd3a41",
   "metadata": {},
   "source": [
    "    Most passengers were between 20 and 40 years old."
   ]
  },
  {
   "cell_type": "markdown",
   "id": "155b49f5-ee52-41c5-88fe-45038c35d98a",
   "metadata": {
    "jp-MarkdownHeadingCollapsed": true
   },
   "source": [
    "#### Passenger class"
   ]
  },
  {
   "cell_type": "markdown",
   "id": "9c654086-0e2e-463c-846b-0c723d598216",
   "metadata": {
    "jp-MarkdownHeadingCollapsed": true
   },
   "source": [
    "##### Plot 1"
   ]
  },
  {
   "cell_type": "code",
   "execution_count": 106,
   "id": "bec3a91c-3554-4489-90f9-19f5b6c09aa0",
   "metadata": {},
   "outputs": [
    {
     "data": {
      "image/png": "[encoded data removed]",
      "text/plain": [
       "<Figure size 640x480 with 1 Axes>"
      ]
     },
     "metadata": {},
     "output_type": "display_data"
    }
   ],
   "source": [
    "#bar blop: survival rate by p clas\n",
    "sns.barplot(x='Pclass', y='Survived' , data=df)\n",
    "plt.title('Survival rate by passenger class')\n",
    "plt.show()"
   ]
  },
  {
   "cell_type": "markdown",
   "id": "9fa2f74d-f138-4760-97b6-d873e0317ffb",
   "metadata": {},
   "source": [
    "    the upper class (1) has highest rate of survival and the lower class has lowest survival rates"
   ]
  },
  {
   "cell_type": "markdown",
   "id": "268aedcb-04dc-4d2a-bd6e-9c7265b89de6",
   "metadata": {
    "jp-MarkdownHeadingCollapsed": true
   },
   "source": [
    "##### Plot 2"
   ]
  },
  {
   "cell_type": "code",
   "execution_count": 107,
   "id": "10973faa-e8d5-4880-ba2a-47902aeb9c24",
   "metadata": {},
   "outputs": [
    {
     "data": {
      "image/png": "[encoded data removed]",
      "text/plain": [
       "<Figure size 640x480 with 1 Axes>"
      ]
     },
     "metadata": {},
     "output_type": "display_data"
    }
   ],
   "source": [
    "sns.countplot(x='Pclass', hue='Survived', data=df)\n",
    "plt.title('Count of Survived vs Not Survived by Passenger class')\n",
    "plt.show()"
   ]
  },
  {
   "cell_type": "markdown",
   "id": "8edb4c31-1068-4d9f-9d57-9f20bad3ab8b",
   "metadata": {},
   "source": [
    "    The graph reveals a clear trend: higher passenger classes had significantly better survival rates, while lower classes experienced more fatalities."
   ]
  },
  {
   "cell_type": "code",
   "execution_count": null,
   "id": "8ed97f4b-9c15-41d8-82b8-e2c16ef4bda7",
   "metadata": {},
   "outputs": [],
   "source": []
  },
  {
   "cell_type": "markdown",
   "id": "9cb1069e-2177-46d9-84ec-f9175789d355",
   "metadata": {
    "jp-MarkdownHeadingCollapsed": true
   },
   "source": [
    "#### Sex"
   ]
  },
  {
   "cell_type": "markdown",
   "id": "76f78ace-a1b7-499e-a288-64da150a42b3",
   "metadata": {},
   "source": [
    "##### Plot 1"
   ]
  },
  {
   "cell_type": "code",
   "execution_count": 108,
   "id": "1afa374b-26ba-4d3a-8ef1-b5c19517187a",
   "metadata": {},
   "outputs": [
    {
     "data": {
      "image/png": "[encoded data removed]",
      "text/plain": [
       "<Figure size 640x480 with 1 Axes>"
      ]
     },
     "metadata": {},
     "output_type": "display_data"
    }
   ],
   "source": [
    "#survival by sex\n",
    "sns.barplot(x='Sex',y='Survived' , data = df)\n",
    "plt.title('Survival rate by Sex')\n",
    "plt.show()"
   ]
  },
  {
   "cell_type": "markdown",
   "id": "e992307a-b186-4260-bed7-2301478e940c",
   "metadata": {},
   "source": [
    "     \"The average survival rate of females was much higher than males.\""
   ]
  },
  {
   "cell_type": "markdown",
   "id": "78063535-86b7-449b-9cfb-e8c66dd3bfaa",
   "metadata": {},
   "source": [
    "##### Plot 2"
   ]
  },
  {
   "cell_type": "code",
   "execution_count": 109,
   "id": "de962de1-00aa-4ced-8152-082cbb3b46d8",
   "metadata": {},
   "outputs": [
    {
     "data": {
      "image/png": "[encoded data removed]",
      "text/plain": [
       "<Figure size 640x480 with 1 Axes>"
      ]
     },
     "metadata": {},
     "output_type": "display_data"
    }
   ],
   "source": [
    "sns.countplot(x='Sex', hue='Survived', data=df)\n",
    "plt.title('Count of Survived vs Not Survived by Sex')\n",
    "plt.show()\n"
   ]
  },
  {
   "cell_type": "markdown",
   "id": "a75beb64-017c-436a-957b-c3460a485f58",
   "metadata": {},
   "source": [
    "    More females survived compared to males. most males did not survive"
   ]
  },
  {
   "cell_type": "markdown",
   "id": "59f56455-a985-46bb-a9c5-f7db6a418742",
   "metadata": {
    "jp-MarkdownHeadingCollapsed": true
   },
   "source": [
    "#### Embarked"
   ]
  },
  {
   "cell_type": "markdown",
   "id": "d66629e7-fd38-4fe3-85f9-c9d97970aa0f",
   "metadata": {
    "jp-MarkdownHeadingCollapsed": true
   },
   "source": [
    "##### Plot 1"
   ]
  },
  {
   "cell_type": "code",
   "execution_count": 110,
   "id": "6b262a4b-19cc-43b0-bc42-bf388b3f69cd",
   "metadata": {},
   "outputs": [
    {
     "data": {
      "image/png": "[encoded data removed]",
      "text/plain": [
       "<Figure size 640x480 with 1 Axes>"
      ]
     },
     "metadata": {},
     "output_type": "display_data"
    }
   ],
   "source": [
    "#survival by embark\n",
    "sns.barplot(x='Embarked',y='Survived' , data = df)\n",
    "plt.title('Survival rate by port of Embarkation')\n",
    "plt.show()"
   ]
  },
  {
   "cell_type": "markdown",
   "id": "6d9eab29-6757-42b5-a4a0-1fecb4ceb91d",
   "metadata": {},
   "source": [
    "         People from port C (Cherbourg) had higher survival — many were 1st class."
   ]
  },
  {
   "cell_type": "markdown",
   "id": "ffd4ba9c-2ffd-47e7-bcc4-e12ac68319f1",
   "metadata": {
    "jp-MarkdownHeadingCollapsed": true
   },
   "source": [
    "##### Plot 2"
   ]
  },
  {
   "cell_type": "code",
   "execution_count": 111,
   "id": "92d57982-053e-4f5a-b085-002b66926c5b",
   "metadata": {},
   "outputs": [
    {
     "data": {
      "image/png": "[encoded data removed]",
      "text/plain": [
       "<Figure size 640x480 with 1 Axes>"
      ]
     },
     "metadata": {},
     "output_type": "display_data"
    }
   ],
   "source": [
    "sns.countplot(x='Embarked', hue='Survived', data=df)\n",
    "plt.title('Count of Survived vs Not Survived by Port of embarkation')\n",
    "plt.show()\n"
   ]
  },
  {
   "attachments": {},
   "cell_type": "markdown",
   "id": "6fac6b0e-e6d4-42cd-9d08-2b851981a68c",
   "metadata": {},
   "source": [
    "    The distribution shows that most passengers boarded from Southampton (S), with around 400 not surviving. It also had the highest number of survivors. In contrast, Queenstown (Q) had the fewest survivors, with fewer than 50."
   ]
  },
  {
   "cell_type": "markdown",
   "id": "0421a9fe-4415-4c34-be02-f40158c9d082",
   "metadata": {},
   "source": [
    "#### Fare"
   ]
  },
  {
   "cell_type": "code",
   "execution_count": 112,
   "id": "025d7ba1-909d-4a5e-bdb7-5afd22711638",
   "metadata": {},
   "outputs": [
    {
     "data": {
      "image/png": "[encoded data removed]",
      "text/plain": [
       "<Figure size 640x480 with 1 Axes>"
      ]
     },
     "metadata": {},
     "output_type": "display_data"
    }
   ],
   "source": [
    "sns.histplot(data=df, x='Fare', bins=40, kde=True)\n",
    "plt.title('Fare Distribution')\n",
    "plt.show()"
   ]
  },
  {
   "cell_type": "markdown",
   "id": "3cc3c425-1a66-4ba7-b39f-330f79c13492",
   "metadata": {
    "jp-MarkdownHeadingCollapsed": true
   },
   "source": [
    "## 4.Data Cleaning & Feature Engineering"
   ]
  },
  {
   "cell_type": "markdown",
   "id": "56f560b2-556f-4287-b90b-8008913d355c",
   "metadata": {
    "jp-MarkdownHeadingCollapsed": true
   },
   "source": [
    "### Handling missing values"
   ]
  },
  {
   "cell_type": "markdown",
   "id": "c2d411b2-3277-4d2d-b92f-4db47f514eab",
   "metadata": {},
   "source": [
    "#### Handle \"Age\""
   ]
  },
  {
   "cell_type": "code",
   "execution_count": 113,
   "id": "7842fe65-a91d-49cf-8e8d-668f401cada8",
   "metadata": {},
   "outputs": [],
   "source": [
    "df['Age'] = df['Age'].fillna(df['Age'].median())"
   ]
  },
  {
   "cell_type": "markdown",
   "id": "79fa99ce-af0a-45a8-a20a-f843c4fc2a38",
   "metadata": {},
   "source": [
    "#### Handle \"Embarked\""
   ]
  },
  {
   "cell_type": "code",
   "execution_count": 114,
   "id": "53326dd3-a9fd-40b3-a286-6f563ea59fdd",
   "metadata": {},
   "outputs": [],
   "source": [
    "df['Embarked'] = df['Embarked'].fillna(df['Embarked'].mode()[0])"
   ]
  },
  {
   "cell_type": "markdown",
   "id": "8ad4ba7d-b8a7-4488-a7a2-461453586aab",
   "metadata": {},
   "source": [
    "#### Handle cabin : \n",
    "\n",
    "too many missing valuesDropped the \"Cabin\" column due to excessive missing values (~77%), which would be unreliable to impute."
   ]
  },
  {
   "cell_type": "code",
   "execution_count": 115,
   "id": "a0c6275a-2d61-4279-a6bf-121d54acf594",
   "metadata": {},
   "outputs": [],
   "source": [
    "df.drop(columns = 'Cabin' , inplace = True )"
   ]
  },
  {
   "cell_type": "code",
   "execution_count": 116,
   "id": "d3fb750a-2bd8-411a-947f-3c375ae90d6c",
   "metadata": {},
   "outputs": [
    {
     "name": "stdout",
     "output_type": "stream",
     "text": [
      "<class 'pandas.core.frame.DataFrame'>\n",
      "RangeIndex: 891 entries, 0 to 890\n",
      "Data columns (total 11 columns):\n",
      " #   Column       Non-Null Count  Dtype  \n",
      "---  ------       --------------  -----  \n",
      " 0   PassengerId  891 non-null    int64  \n",
      " 1   Survived     891 non-null    int64  \n",
      " 2   Pclass       891 non-null    int64  \n",
      " 3   Name         891 non-null    object \n",
      " 4   Sex          891 non-null    object \n",
      " 5   Age          891 non-null    float64\n",
      " 6   SibSp        891 non-null    int64  \n",
      " 7   Parch        891 non-null    int64  \n",
      " 8   Ticket       891 non-null    object \n",
      " 9   Fare         891 non-null    float64\n",
      " 10  Embarked     891 non-null    object \n",
      "dtypes: float64(2), int64(5), object(4)\n",
      "memory usage: 76.7+ KB\n"
     ]
    }
   ],
   "source": [
    "df.info()"
   ]
  },
  {
   "cell_type": "markdown",
   "id": "bbb3f9a0-ab49-4d19-a301-594691abf04f",
   "metadata": {},
   "source": [
    "### Feature engineering "
   ]
  },
  {
   "cell_type": "markdown",
   "id": "c3a36ec4-150c-40cb-a07c-278832475000",
   "metadata": {},
   "source": [
    "#### title extraction\n",
    "\n",
    "- The Name column has full names, including titles like Mr, Mrs, Miss, Master, Dr, etc.\n",
    "\n",
    "- These titles give info about age group, gender, or social status which can affect survival."
   ]
  },
  {
   "cell_type": "markdown",
   "id": "befddeb5-6417-47c3-8e9e-f746be72a6ae",
   "metadata": {
    "jp-MarkdownHeadingCollapsed": true
   },
   "source": [
    "##### 1 - extract titles from names"
   ]
  },
  {
   "cell_type": "code",
   "execution_count": 117,
   "id": "6f2e0dcf-b269-43cf-86f7-c811feb39f48",
   "metadata": {},
   "outputs": [
    {
     "data": {
      "text/plain": [
       "0                              Braund, Mr. Owen Harris\n",
       "1    Cumings, Mrs. John Bradley (Florence Briggs Th...\n",
       "2                               Heikkinen, Miss. Laina\n",
       "3         Futrelle, Mrs. Jacques Heath (Lily May Peel)\n",
       "4                             Allen, Mr. William Henry\n",
       "5                                     Moran, Mr. James\n",
       "6                              McCarthy, Mr. Timothy J\n",
       "7                       Palsson, Master. Gosta Leonard\n",
       "8    Johnson, Mrs. Oscar W (Elisabeth Vilhelmina Berg)\n",
       "9                  Nasser, Mrs. Nicholas (Adele Achem)\n",
       "Name: Name, dtype: object"
      ]
     },
     "execution_count": 117,
     "metadata": {},
     "output_type": "execute_result"
    }
   ],
   "source": [
    "df['Name'].head(10)"
   ]
  },
  {
   "cell_type": "code",
   "execution_count": 118,
   "id": "3d167104-d7fd-4f42-95a8-c129f125d7f5",
   "metadata": {},
   "outputs": [],
   "source": [
    "df['Title'] = df['Name'].str.extract(r' ([A-Za-z]+)\\.', expand=False)"
   ]
  },
  {
   "cell_type": "code",
   "execution_count": 119,
   "id": "61cddbd7-ff95-4558-a36b-e10750a2a296",
   "metadata": {},
   "outputs": [
    {
     "data": {
      "text/plain": [
       "Title\n",
       "Mr          517\n",
       "Miss        182\n",
       "Mrs         125\n",
       "Master       40\n",
       "Dr            7\n",
       "Rev           6\n",
       "Mlle          2\n",
       "Major         2\n",
       "Col           2\n",
       "Countess      1\n",
       "Capt          1\n",
       "Ms            1\n",
       "Sir           1\n",
       "Lady          1\n",
       "Mme           1\n",
       "Don           1\n",
       "Jonkheer      1\n",
       "Name: count, dtype: int64"
      ]
     },
     "execution_count": 119,
     "metadata": {},
     "output_type": "execute_result"
    }
   ],
   "source": [
    "df['Title'].value_counts()\n"
   ]
  },
  {
   "cell_type": "markdown",
   "id": "2499d89e-a7c7-4c4a-8b9d-a97e4f95402e",
   "metadata": {
    "jp-MarkdownHeadingCollapsed": true
   },
   "source": [
    "##### 2 -Group rare titles\n",
    "Some titles like Don, Lady, Countess are very rare — we combine them into one group: 'Rare'."
   ]
  },
  {
   "cell_type": "code",
   "execution_count": 120,
   "id": "f83b9d7d-11c7-4241-bb39-591c9371d095",
   "metadata": {},
   "outputs": [
    {
     "data": {
      "text/plain": [
       "Title\n",
       "Mr        517\n",
       "Miss      185\n",
       "Mrs       127\n",
       "Master     40\n",
       "Rare       22\n",
       "Name: count, dtype: int64"
      ]
     },
     "execution_count": 120,
     "metadata": {},
     "output_type": "execute_result"
    }
   ],
   "source": [
    "df['Title'] = df['Title'].replace(['Don' , 'Jonkheer', 'Sir','Capt','Countess','Col','Major','Rev',\n",
    "                                  'Dr'],'Rare')\n",
    "df['Title'] = df['Title'].replace(['Lady','Mme'],'Mrs')\n",
    "df['Title'] = df['Title'].replace(['Mlle','Ms'],'Miss')\n",
    "\n",
    "df['Title'].value_counts()"
   ]
  },
  {
   "cell_type": "markdown",
   "id": "4b854710-6c7a-4790-b739-c206bb3cdb47",
   "metadata": {},
   "source": [
    "#### New feature to create"
   ]
  },
  {
   "cell_type": "markdown",
   "id": "bb3b1bd7-c7a4-435c-8a7b-60448b04762d",
   "metadata": {},
   "source": [
    "##### 3 - create family size\n",
    "\n",
    "family size = Parch(parent/children) + SibSp(spouse/sibling) + 1( for self )"
   ]
  },
  {
   "cell_type": "code",
   "execution_count": 121,
   "id": "477fac69-cd0e-4666-a5d2-32c0e01de47d",
   "metadata": {},
   "outputs": [],
   "source": [
    "df['FamilySize'] = df['SibSp'] + df['Parch'] + 1"
   ]
  },
  {
   "cell_type": "markdown",
   "id": "28a714a9-6137-4abe-b4ee-f9b0adf5782e",
   "metadata": {
    "jp-MarkdownHeadingCollapsed": true
   },
   "source": [
    "##### 4- create isAlone"
   ]
  },
  {
   "cell_type": "code",
   "execution_count": 122,
   "id": "0ea8e4aa-e6b7-4b7d-8242-2947ae502947",
   "metadata": {},
   "outputs": [],
   "source": [
    "df['isAlone'] = 0\n",
    "df.loc[df['FamilySize']==1 , 'isAlone'] = 1\n",
    "\n"
   ]
  },
  {
   "cell_type": "markdown",
   "id": "87d53330-6720-49e4-a63e-3bcfd0676186",
   "metadata": {},
   "source": [
    "- FamilySize shows if passenger is traveling alone or with family\n",
    "\n",
    "- IsAlone is a binary feature, often useful to show survival chances"
   ]
  },
  {
   "cell_type": "code",
   "execution_count": 123,
   "id": "fc72f23e-60a8-4a44-90b1-b0ccd93639d3",
   "metadata": {},
   "outputs": [
    {
     "name": "stdout",
     "output_type": "stream",
     "text": [
      "<class 'pandas.core.frame.DataFrame'>\n",
      "RangeIndex: 891 entries, 0 to 890\n",
      "Data columns (total 14 columns):\n",
      " #   Column       Non-Null Count  Dtype  \n",
      "---  ------       --------------  -----  \n",
      " 0   PassengerId  891 non-null    int64  \n",
      " 1   Survived     891 non-null    int64  \n",
      " 2   Pclass       891 non-null    int64  \n",
      " 3   Name         891 non-null    object \n",
      " 4   Sex          891 non-null    object \n",
      " 5   Age          891 non-null    float64\n",
      " 6   SibSp        891 non-null    int64  \n",
      " 7   Parch        891 non-null    int64  \n",
      " 8   Ticket       891 non-null    object \n",
      " 9   Fare         891 non-null    float64\n",
      " 10  Embarked     891 non-null    object \n",
      " 11  Title        891 non-null    object \n",
      " 12  FamilySize   891 non-null    int64  \n",
      " 13  isAlone      891 non-null    int64  \n",
      "dtypes: float64(2), int64(7), object(5)\n",
      "memory usage: 97.6+ KB\n"
     ]
    }
   ],
   "source": [
    "df.info()"
   ]
  },
  {
   "cell_type": "code",
   "execution_count": 124,
   "id": "624e6bdf-00a8-4ba4-a544-bbcbe221a69b",
   "metadata": {},
   "outputs": [
    {
     "data": {
      "image/png": "[encoded data removed]",
      "text/plain": [
       "<Figure size 640x480 with 1 Axes>"
      ]
     },
     "metadata": {},
     "output_type": "display_data"
    }
   ],
   "source": [
    "#Visualize Survival by IsAlone\n",
    "sns.barplot(x='isAlone', y='Survived', data=df)\n",
    "plt.title('Survival Rate by IsAlone (0 = Not Alone, 1 = Alone)')\n",
    "plt.show()\n"
   ]
  },
  {
   "cell_type": "markdown",
   "id": "f6f1c354-9732-4dbc-91d9-07f6dc7aa9ad",
   "metadata": {},
   "source": [
    "    Passengers who were alone had a lower survival rate compared to those traveling with family."
   ]
  },
  {
   "cell_type": "markdown",
   "id": "ceb3150f-3e5e-4517-8069-46acb9909242",
   "metadata": {
    "jp-MarkdownHeadingCollapsed": true
   },
   "source": [
    "##### 5. Encode Categorical Columns (Sex, Embarked, and Title)"
   ]
  },
  {
   "cell_type": "code",
   "execution_count": 125,
   "id": "a6a3a70e-2183-40cf-a4fe-ff18eb685810",
   "metadata": {},
   "outputs": [],
   "source": [
    "df['Sex']=df['Sex'].map({'male':0, 'female':1})"
   ]
  },
  {
   "cell_type": "code",
   "execution_count": 126,
   "id": "8e84e6b5-8eff-4cea-97f3-865fe5611e2d",
   "metadata": {},
   "outputs": [],
   "source": [
    "df['Embarked'] = df['Embarked'].map({'S':0, 'C':1, 'Q':2})"
   ]
  },
  {
   "cell_type": "code",
   "execution_count": 127,
   "id": "1ec31f6b-891b-48cf-8f3e-ee19f51fa54a",
   "metadata": {},
   "outputs": [],
   "source": [
    "title_mapping = {'Mr':0, 'Miss':1, 'Mrs':2, 'Master':3, 'Rare':4}\n",
    "df['Title'] = df['Title'].map(title_mapping)"
   ]
  },
  {
   "cell_type": "markdown",
   "id": "c6351489-1ef8-41ff-bb59-c25431c406f5",
   "metadata": {
    "jp-MarkdownHeadingCollapsed": true
   },
   "source": [
    "##### 6. dropping columns which are not necessary for our prediction"
   ]
  },
  {
   "cell_type": "code",
   "execution_count": 128,
   "id": "71a1971a-ae75-46db-b422-3e22a1f9d0f0",
   "metadata": {},
   "outputs": [],
   "source": [
    "df.drop(['Name' , 'Ticket'],axis = 1 , inplace= True)"
   ]
  },
  {
   "cell_type": "code",
   "execution_count": 129,
   "id": "90070362-335e-4387-9f23-3559f6dc4997",
   "metadata": {},
   "outputs": [
    {
     "name": "stdout",
     "output_type": "stream",
     "text": [
      "<class 'pandas.core.frame.DataFrame'>\n",
      "RangeIndex: 891 entries, 0 to 890\n",
      "Data columns (total 12 columns):\n",
      " #   Column       Non-Null Count  Dtype  \n",
      "---  ------       --------------  -----  \n",
      " 0   PassengerId  891 non-null    int64  \n",
      " 1   Survived     891 non-null    int64  \n",
      " 2   Pclass       891 non-null    int64  \n",
      " 3   Sex          891 non-null    int64  \n",
      " 4   Age          891 non-null    float64\n",
      " 5   SibSp        891 non-null    int64  \n",
      " 6   Parch        891 non-null    int64  \n",
      " 7   Fare         891 non-null    float64\n",
      " 8   Embarked     891 non-null    int64  \n",
      " 9   Title        891 non-null    int64  \n",
      " 10  FamilySize   891 non-null    int64  \n",
      " 11  isAlone      891 non-null    int64  \n",
      "dtypes: float64(2), int64(10)\n",
      "memory usage: 83.7 KB\n"
     ]
    }
   ],
   "source": [
    "df.info()"
   ]
  },
  {
   "cell_type": "code",
   "execution_count": 130,
   "id": "579c04fc-0078-4789-970b-03948c842cdb",
   "metadata": {},
   "outputs": [],
   "source": [
    "df.to_csv('titanic_cleaned.csv', index=False)\n"
   ]
  },
  {
   "cell_type": "markdown",
   "id": "6ee49e4b-90e7-48ad-986e-d73f210d4dfa",
   "metadata": {
    "jp-MarkdownHeadingCollapsed": true
   },
   "source": [
    "## 5. Model Training & Evaluation"
   ]
  },
  {
   "cell_type": "markdown",
   "id": "9d33c169-15aa-40e7-abcb-a64e7c0b9748",
   "metadata": {
    "jp-MarkdownHeadingCollapsed": true
   },
   "source": [
    "###  1. Baseline Model: Logistic Regression\n",
    "\n",
    ">Goal : Train & evaluate simple model\n",
    "\n",
    "1.  Train/test split\n",
    "    \n",
    "2.  Train logistic regression\n",
    "    \n",
    "3.  Evaluate accuracy and performance  \n",
    "     This gives us our **first working model**"
   ]
  },
  {
   "cell_type": "markdown",
   "id": "06997389-b69d-4839-aff1-f2e79d0ecd26",
   "metadata": {},
   "source": [
    "#### Train/test split\n",
    "\n"
   ]
  },
  {
   "cell_type": "code",
   "execution_count": 131,
   "id": "9bb812b8-8ba3-4798-95c7-e063dd2bb482",
   "metadata": {},
   "outputs": [],
   "source": [
    "X = df.drop(['Survived', 'PassengerId'], axis = 1)\n",
    "y = df['Survived']"
   ]
  },
  {
   "cell_type": "code",
   "execution_count": 132,
   "id": "044ef296-009d-401e-aae0-24ef6f56902b",
   "metadata": {},
   "outputs": [],
   "source": [
    "from sklearn.model_selection import train_test_split\n",
    "\n",
    "X_train , X_test , y_train , y_test = train_test_split(X ,y , test_size=0.2 , random_state=42)"
   ]
  },
  {
   "cell_type": "markdown",
   "id": "d7a1cf75-fb7b-4e70-91e2-3693af8d54e5",
   "metadata": {},
   "source": [
    "#### Train logistic regression\n",
    "\n"
   ]
  },
  {
   "cell_type": "code",
   "execution_count": 133,
   "id": "4cf49087-7190-443c-929f-867586dc4508",
   "metadata": {},
   "outputs": [
    {
     "name": "stdout",
     "output_type": "stream",
     "text": [
      "Accuracy Score:  0.7821229050279329\n",
      "\n",
      "Confusion matrics:\n",
      " [[87 18]\n",
      " [21 53]]\n",
      "\n",
      "Classification report               precision    recall  f1-score   support\n",
      "\n",
      "           0       0.81      0.83      0.82       105\n",
      "           1       0.75      0.72      0.73        74\n",
      "\n",
      "    accuracy                           0.78       179\n",
      "   macro avg       0.78      0.77      0.77       179\n",
      "weighted avg       0.78      0.78      0.78       179\n",
      "\n"
     ]
    }
   ],
   "source": [
    "from sklearn.linear_model import LogisticRegression\n",
    "from sklearn.metrics import accuracy_score , confusion_matrix , classification_report\n",
    "from sklearn.preprocessing import StandardScaler\n",
    "\n",
    "scaler = StandardScaler()\n",
    "X_train_scaled = scaler.fit_transform(X_train)\n",
    "X_test_scaled = scaler.fit_transform(X_test)\n",
    "\n",
    "model = LogisticRegression()\n",
    "model.fit(X_train_scaled , y_train)\n",
    "\n",
    "y_pred = model.predict(X_test_scaled)\n",
    "\n",
    "print(\"Accuracy Score: \" , accuracy_score(y_test , y_pred))\n",
    "print(\"\\nConfusion matrics:\\n\" , confusion_matrix(y_test , y_pred))\n",
    "print(\"\\nClassification report\" , classification_report(y_test , y_pred))\n",
    "\n",
    "\n"
   ]
  },
  {
   "cell_type": "markdown",
   "id": "c8679990-4676-422c-b058-d3510a50ea0d",
   "metadata": {},
   "source": [
    "##### Insight:\n",
    ">The model predicts survival with about 78% accuracy. It performs better at identifying passengers who did not survive compared to those who survived."
   ]
  },
  {
   "cell_type": "markdown",
   "id": "a986032e-28bd-4e9c-a15e-f05cd8c16535",
   "metadata": {},
   "source": [
    "### 2. Model Improvement and Hyperparameter Tuning : Random forest"
   ]
  },
  {
   "cell_type": "markdown",
   "id": "edda679b-42f1-4893-aa1c-2d31eb37a11c",
   "metadata": {},
   "source": [
    "#### 2.1 Random Forest - "
   ]
  },
  {
   "cell_type": "code",
   "execution_count": 134,
   "id": "839e9744-54f9-4ccc-b8dd-cd654ae25d47",
   "metadata": {},
   "outputs": [
    {
     "name": "stdout",
     "output_type": "stream",
     "text": [
      "Accuracy Score:  0.8324022346368715\n",
      "Confusion Matrix:\n",
      " [[91 14]\n",
      " [16 58]]\n",
      "Classification Report:\n",
      "               precision    recall  f1-score   support\n",
      "\n",
      "           0       0.85      0.87      0.86       105\n",
      "           1       0.81      0.78      0.79        74\n",
      "\n",
      "    accuracy                           0.83       179\n",
      "   macro avg       0.83      0.83      0.83       179\n",
      "weighted avg       0.83      0.83      0.83       179\n",
      "\n"
     ]
    }
   ],
   "source": [
    "from sklearn.ensemble import RandomForestClassifier\n",
    "from sklearn.metrics import accuracy_score , confusion_matrix,classification_report\n",
    "\n",
    "rf_model = RandomForestClassifier()\n",
    "\n",
    "rf_model.fit(X_train, y_train)\n",
    "\n",
    "y_pred = rf_model.predict(X_test)\n",
    "\n",
    "# Evaluate\n",
    "print(\"Accuracy Score: \", accuracy_score(y_test, y_pred))\n",
    "print(\"Confusion Matrix:\\n\", confusion_matrix(y_test, y_pred))\n",
    "print(\"Classification Report:\\n\", classification_report(y_test, y_pred))"
   ]
  },
  {
   "cell_type": "markdown",
   "id": "cfde91cb-ca61-48a6-b740-16a41f87d779",
   "metadata": {},
   "source": [
    "##### Insight:\n",
    "    Model Performance After Feature Engineering, accuracy increased to 83.2%. Both classes (survived and not survived) now show better precision and recall, especially for class 1 (survived), which rose from 0.75 to 0.80. This means the model is now better at correctly predicting survival."
   ]
  },
  {
   "cell_type": "markdown",
   "id": "0fb54bb6-62e3-4578-8b86-e980d0b704f6",
   "metadata": {},
   "source": [
    "#### 2.2 Model Pipelining"
   ]
  },
  {
   "cell_type": "code",
   "execution_count": 135,
   "id": "5cfba134-e654-4fdc-838d-9494ab6df0cb",
   "metadata": {},
   "outputs": [],
   "source": [
    "from sklearn.pipeline import Pipeline\n",
    "from sklearn.preprocessing import StandardScaler\n",
    "from sklearn.ensemble import RandomForestClassifier\n",
    "\n",
    "# Define the pipeline\n",
    "pipeline = Pipeline([\n",
    "    ('scaler', StandardScaler()),           # Feature scaling\n",
    "    ('model', RandomForestClassifier())     # Model\n",
    "])\n",
    "\n",
    "pipeline.fit(X_train, y_train)\n",
    "\n",
    "# Predict\n",
    "y_pred = pipeline.predict(X_test)\n"
   ]
  },
  {
   "cell_type": "markdown",
   "id": "ce3be41d-45e3-4493-9211-4b5cdd4965c3",
   "metadata": {
    "jp-MarkdownHeadingCollapsed": true
   },
   "source": [
    "#### 2.3 Hyperparameter Tuning with GridSearchCV\n",
    "\n",
    "    for improving model’s performance by finding the best parameters for RandomForestClassifier."
   ]
  },
  {
   "cell_type": "code",
   "execution_count": 136,
   "id": "52f7e81d-9c2c-4365-85f9-5e7cff521404",
   "metadata": {},
   "outputs": [
    {
     "name": "stdout",
     "output_type": "stream",
     "text": [
      "Final tuned accuracy 0.83\n"
     ]
    }
   ],
   "source": [
    "from sklearn.model_selection import GridSearchCV\n",
    "\n",
    "\n",
    "param_grid = {\n",
    "    'model__n_estimators': [50, 100, 200],\n",
    "    'model__max_depth': [None, 5, 10],\n",
    "    'model__min_samples_split': [2, 5, 10]\n",
    "}\n",
    "\n",
    "# GridSearchCV setup\n",
    "grid_search = GridSearchCV(pipeline, param_grid, cv=5, scoring='accuracy')\n",
    "\n",
    "\n",
    "grid_search.fit(X_train, y_train)\n",
    "\n",
    "# Best model\n",
    "best_model = grid_search.best_estimator_\n",
    "\n",
    "y_pred_best = best_model.predict(X_test)\n",
    "\n",
    "accuracy = accuracy_score(y_test , y_pred_best)\n",
    "\n",
    "print(f\"Final tuned accuracy {accuracy:.2f}\")\n"
   ]
  },
  {
   "cell_type": "markdown",
   "id": "d2209e45-3309-4ca5-9047-3744d9644916",
   "metadata": {
    "jp-MarkdownHeadingCollapsed": true
   },
   "source": [
    "### 3 Model Comparison (Logistic Regression vs Random Forest vs KNN)\n",
    "\n",
    "- comparison metrics to justify choosing Random Forest."
   ]
  },
  {
   "cell_type": "code",
   "execution_count": 137,
   "id": "ee8120c6-ca05-4010-baca-f1e8a39e1360",
   "metadata": {},
   "outputs": [
    {
     "name": "stderr",
     "output_type": "stream",
     "text": [
      "C:\\Users\\HP\\anaconda3\\Lib\\site-packages\\sklearn\\linear_model\\_logistic.py:465: ConvergenceWarning: lbfgs failed to converge (status=1):\n",
      "STOP: TOTAL NO. of ITERATIONS REACHED LIMIT.\n",
      "\n",
      "Increase the number of iterations (max_iter) or scale the data as shown in:\n",
      "    https://scikit-learn.org/stable/modules/preprocessing.html\n",
      "Please also refer to the documentation for alternative solver options:\n",
      "    https://scikit-learn.org/stable/modules/linear_model.html#logistic-regression\n",
      "  n_iter_i = _check_optimize_result(\n"
     ]
    },
    {
     "data": {
      "image/png": "[encoded data removed]",
      "text/plain": [
       "<Figure size 800x500 with 1 Axes>"
      ]
     },
     "metadata": {},
     "output_type": "display_data"
    }
   ],
   "source": [
    "from sklearn.linear_model import LogisticRegression\n",
    "from sklearn.ensemble import RandomForestClassifier\n",
    "from sklearn.neighbors import KNeighborsClassifier\n",
    "\n",
    "log_model = LogisticRegression()\n",
    "rf_model = RandomForestClassifier()\n",
    "knn_model = KNeighborsClassifier()\n",
    "\n",
    "#training the models\n",
    "# Train models\n",
    "log_model.fit(X_train, y_train)\n",
    "rf_model.fit(X_train, y_train)\n",
    "knn_model.fit(X_train, y_train)\n",
    "\n",
    "\n",
    "log_pred = log_model.predict(X_test)\n",
    "rf_pred = rf_model.predict(X_test)\n",
    "knn_pred = knn_model.predict(X_test)\n",
    "\n",
    "# Accuracy\n",
    "log_acc = accuracy_score(y_test, log_pred)\n",
    "rf_acc = accuracy_score(y_test, rf_pred)\n",
    "knn_acc = accuracy_score(y_test, knn_pred)\n",
    "\n",
    "# Plot\n",
    "models = ['Logistic Regression', 'Random Forest', 'KNN']\n",
    "accuracies = [log_acc, rf_acc, knn_acc]\n",
    "\n",
    "plt.figure(figsize=(8,5))\n",
    "plt.bar(models, accuracies)\n",
    "plt.ylabel('Accuracy')\n",
    "plt.title('Model Comparison')\n",
    "plt.ylim(0.7, 0.9)\n",
    "for i, acc in enumerate(accuracies):\n",
    "    plt.text(i, acc + 0.005, f'{acc:.2f}', ha='center')\n",
    "plt.show()\n",
    "\n",
    "\n",
    "#ignore warning we are jsut comparing models"
   ]
  },
  {
   "cell_type": "markdown",
   "id": "43c18a6b-cc91-4259-958a-5c5cb142d1a6",
   "metadata": {
    "jp-MarkdownHeadingCollapsed": true
   },
   "source": [
    "## 6. Model Selection and Saving"
   ]
  },
  {
   "cell_type": "markdown",
   "id": "805d334b-9cbe-46d5-8534-5e1182c7afc5",
   "metadata": {},
   "source": [
    "### Final Model Selection\n",
    "\n",
    ">After comparing multiple models including Logistic Regression, K-Nearest Neighbors, and Random Forest, the best performance was achieved using a Random Forest model with pipeline and hyperparameter tuning via GridSearchCV.\n",
    "\n",
    ">This final model gave the highest accuracy and balanced precision/recall, making it the most reliable for predicting Titanic survival.\n",
    "It has been selected as the final model for this project."
   ]
  },
  {
   "cell_type": "markdown",
   "id": "76c21167-f03a-404b-a35c-3263ba74173b",
   "metadata": {},
   "source": [
    "- **Saving best model with joblib:**"
   ]
  },
  {
   "cell_type": "code",
   "execution_count": 138,
   "id": "452551fc-fe61-482f-84a8-8517675b2e62",
   "metadata": {},
   "outputs": [
    {
     "data": {
      "text/plain": [
       "['../models/titanic_rf_model.pkl']"
      ]
     },
     "execution_count": 138,
     "metadata": {},
     "output_type": "execute_result"
    }
   ],
   "source": [
    "import joblib\n",
    "\n",
    "joblib.dump(best_model, '../models/titanic_rf_model.pkl') "
   ]
  },
  {
   "cell_type": "markdown",
   "id": "4d7ac3c0-fd52-439b-8485-183962a039ad",
   "metadata": {},
   "source": [
    "## 7. Deployment via Flask API"
   ]
  },
  {
   "cell_type": "markdown",
   "id": "148ab033-3f20-467f-8b55-157cfa5f78bf",
   "metadata": {},
   "source": [
    "### 🚀 Deployment via Flask API\n",
    "\n",
    "We deployed our trained model using a Flask API. Here's the main code:\n",
    "\n",
    "#### Flask app (app.py)\n",
    "```python\n",
    "from flask import Flask, request, jsonify\n",
    "import joblib\n",
    "import pandas as pd\n",
    "\n",
    "app = Flask(__name__)\n",
    "model = joblib.load('models/titanic_rf_model.pkl')\n",
    "\n",
    "@app.route('/')\n",
    "def home():\n",
    "    return \"Titanic Survival Prediction API is running\"\n",
    "\n",
    "@app.route('/predict', methods=['POST'])\n",
    "def predict():\n",
    "    try:\n",
    "        data = request.get_json(force=True)\n",
    "\n",
    "        expected_keys = ['Pclass', 'Sex', 'Age', 'SibSp', 'Parch', 'Fare', 'Embarked', 'Title', 'FamilySize', 'isAlone']\n",
    "        for key in expected_keys:\n",
    "            if key not in data:\n",
    "                return jsonify({'error': f'Missing feature: {key}'}), 400\n",
    "\n",
    "        input_df = pd.DataFrame([data])\n",
    "\n",
    "        prediction = model.predict(input_df)[0]\n",
    "        probability = model.predict_proba(input_df)[0][1]\n",
    "\n",
    "        return jsonify({\n",
    "            'Survived': int(prediction),\n",
    "            'Survival Probability': float(probability)\n",
    "        })\n",
    "\n",
    "    except Exception as e:\n",
    "        return jsonify({'error': str(e)}), 500\n",
    "\n",
    "if __name__ == \"__main__\":\n",
    "    app.run(debug=True)\n",
    "```\n",
    "\n",
    "###  Code Highlights:\n",
    "\n",
    "- `@app.route('/')`: Returns a message to confirm API is running.\n",
    "- `@app.route('/predict', methods=['POST'])`: Accepts passenger data in JSON, converts it to a DataFrame, and returns:\n",
    "  - `Survived`: 0 or 1\n",
    "  - `Survival Probability`: Confidence score\n",
    "\n",
    "###  Safety Checks:\n",
    "- Ensures all 10 required features are present.\n",
    "- Handles errors and returns useful messages if input is wrong."
   ]
  },
  {
   "cell_type": "markdown",
   "id": "9ca424ba-e6ff-48c2-9257-0dc69449d1e7",
   "metadata": {},
   "source": [
    "### Postman Test:\n",
    "\n",
    "**Input JSON:**\n",
    "```json\n",
    "{\n",
    "  \"Pclass\": 3,\n",
    "  \"Sex\": 0,\n",
    "  \"Age\": 22,\n",
    "  \"SibSp\": 1,\n",
    "  \"Parch\": 0,\n",
    "  \"Fare\": 7.25,\n",
    "  \"Embarked\": 0,\n",
    "  \"Title\": 1,\n",
    "  \"FamilySize\": 2,\n",
    "  \"isAlone\": 0\n",
    "}\n",
    "```\n",
    "\n",
    "### output \n",
    "\n",
    "{\n",
    "  \n",
    "  \"Survived\": 0,\n",
    "  \n",
    "  \"Survival Probability\": 0.2676\n",
    "\n",
    "}\n",
    "\n"
   ]
  },
  {
   "cell_type": "markdown",
   "id": "b4f5a9cb-6fff-4b00-94d5-a1d975155341",
   "metadata": {},
   "source": [
    "## 8. Final Testing & Sample Prediction"
   ]
  },
  {
   "cell_type": "markdown",
   "id": "407f4cc3-3460-49ab-b925-1b0de5d76221",
   "metadata": {},
   "source": [
    "### Final Testing & Sample Prediction\n",
    "\n",
    "Once the Flask API was running, we tested it using **Postman** with various inputs.\n",
    "\n",
    "#### Sample Input:\n",
    "```json\n",
    "{\n",
    "  \"Pclass\": 1,\n",
    "  \"Sex\": 1,\n",
    "  \"Age\": 35,\n",
    "  \"SibSp\": 0,\n",
    "  \"Parch\": 0,\n",
    "  \"Fare\": 100,\n",
    "  \"Embarked\": 1,\n",
    "  \"Title\": 0,\n",
    "  \"FamilySize\": 1,\n",
    "  \"isAlone\": 1\n",
    "}\n",
    "```\n",
    "\n",
    "#### Ouput:\n",
    "{\n",
    "\n",
    "    \"Survival Probability\": 0.7251698555666978,\n",
    "    \"Survived\": 1\n",
    "}\n",
    "\n",
    "![Output](sample_output.png)\n",
    "\n",
    "\n",
    "#### Explanation:\n",
    "\n",
    ">Survived: 1 means the model predicts the person would survive.\n",
    "\n",
    ">Survival Probability gives the model's confidence (e.g., 72% in this case)."
   ]
  },
  {
   "cell_type": "markdown",
   "id": "fa45811c-4516-4758-99bf-e9cf42a260a7",
   "metadata": {},
   "source": [
    "## 9. Learnings & Improvements"
   ]
  },
  {
   "cell_type": "markdown",
   "id": "6ef3584c-bcbe-42b0-9d30-58eb48c82944",
   "metadata": {},
   "source": [
    "###  Learnings & Improvements\n",
    "\n",
    "###  What I Learned:\n",
    "- Data preprocessing (missing values, feature engineering)\n",
    "- Using scikit-learn to train classification models\n",
    "- Model evaluation techniques (accuracy, confusion matrix, etc.)\n",
    "- Saving and loading models using `joblib`\n",
    "- Creating and testing a Flask API\n",
    "- Sending JSON data to an ML model via Postman\n",
    "\n",
    "###  Possible Improvements:\n",
    "- Build a small web frontend to send input\n",
    "- Use Docker for deployment\n"
   ]
  },
  {
   "cell_type": "code",
   "execution_count": null,
   "id": "aa692610-aa53-4e94-b243-c6b7b6fa9806",
   "metadata": {},
   "outputs": [],
   "source": []
  }
 ],
 "metadata": {
  "kernelspec": {
   "display_name": "Python 3 (ipykernel)",
   "language": "python",
   "name": "python3"
  },
  "language_info": {
   "codemirror_mode": {
    "name": "ipython",
    "version": 3
   },
   "file_extension": ".py",
   "mimetype": "text/x-python",
   "name": "python",
   "nbconvert_exporter": "python",
   "pygments_lexer": "ipython3",
   "version": "3.12.7"
  }
 },
 "nbformat": 4,
 "nbformat_minor": 5
}
